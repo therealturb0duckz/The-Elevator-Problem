{
 "cells": [
  {
   "cell_type": "markdown",
   "id": "6b5cd62e",
   "metadata": {},
   "source": [
    "# The Elevator Problem\n",
    "---"
   ]
  },
  {
   "cell_type": "markdown",
   "id": "03395f22",
   "metadata": {},
   "source": [
    "## Idea\n",
    "The problem is inspired by the **Birthday Paradox**, but instead of birthdays, we look at **elevators and floors**.  \n",
    "\n",
    "**Main Question:**  \n",
    "*What’s the probability that at least two people in an elevator pick the same floor?*"
   ]
  },
  {
   "cell_type": "markdown",
   "id": "6e712996",
   "metadata": {},
   "source": [
    "## Concept (Probability)\n",
    "\n",
    "For \\(n\\) people and \\(f\\) floors:\n",
    "\n",
    "### Step 1: Probability that **no one shares a floor**\n",
    "\n",
    "$$\n",
    "P(\\text{no shared floor}) = \\frac{f}{f} \\times \\frac{f-1}{f} \\times \\frac{f-2}{f} \\times \\dots \\times \\frac{f-n+1}{f}\n",
    "$$\n",
    "\n",
    "### Step 2: Probability that **at least one shares a floor**\n",
    "\n",
    "$$\n",
    "P(\\text{at least one shared floor}) = 1 - P(\\text{no shared floor})\n",
    "$$"
   ]
  },
  {
   "cell_type": "markdown",
   "id": "9feaf27a",
   "metadata": {},
   "source": [
    "## Example\n",
    "\n",
    "- Elevator capacity: \\(n = 14\\) people  \n",
    "- Building: \\(f = 20\\) floors  \n",
    "\n",
    "$$\n",
    "P(\\text{at least one shared}) = 1 - \\frac{20}{20} \\times \\frac{19}{20} \\times \\dots \\times \\frac{7}{20} \\approx 0.9945 \\, (99.45\\%)\n",
    "$$\n"
   ]
  },
  {
   "cell_type": "code",
   "execution_count": 5,
   "id": "48bf0e55",
   "metadata": {},
   "outputs": [
    {
     "name": "stdout",
     "output_type": "stream",
     "text": [
      "1.0\n",
      "0.7777777777777778\n",
      "0.99793760341375\n"
     ]
    }
   ],
   "source": [
    "# original probability approach\n",
    "def shared_floor_probability(num_of_ppl, num_of_floors):\n",
    "    # we want to calculate at least 2 people shared a floor\n",
    "    # pigeonhole: if the  number of people is greater than the  number of floors, then it guarantees an overlap   \n",
    "    if num_of_ppl > num_of_floors:\n",
    "        return 1.0\n",
    "    prob_no_shared  = 1.0 # float\n",
    "    \n",
    "    for i in range(num_of_ppl):\n",
    "        prob_no_shared *= ((num_of_floors - i)/num_of_floors)\n",
    "    return (1-prob_no_shared)\n",
    "\n",
    "print(shared_floor_probability(5,3))\n",
    "print(shared_floor_probability(3,3))\n",
    "print(shared_floor_probability(14,20))"
   ]
  },
  {
   "cell_type": "code",
   "execution_count": 10,
   "id": "3e76439c",
   "metadata": {},
   "outputs": [
    {
     "name": "stdout",
     "output_type": "stream",
     "text": [
      "20\n",
      "19\n",
      "18\n",
      "17\n",
      "16\n",
      "15\n",
      "14\n",
      "13\n",
      "12\n",
      "11\n",
      "10\n",
      "9\n",
      "8\n",
      "7\n",
      "0.99793760341375\n"
     ]
    }
   ],
   "source": [
    "# random check\n",
    "ans =1\n",
    "for i in range(20,6,-1):\n",
    "    print(i)\n",
    "    ans *= i/20\n",
    "print(1-ans)"
   ]
  },
  {
   "cell_type": "code",
   "execution_count": 13,
   "id": "da929a83",
   "metadata": {},
   "outputs": [
    {
     "data": {
      "text/plain": [
       "0.9997198781738114"
      ]
     },
     "execution_count": 13,
     "metadata": {},
     "output_type": "execute_result"
    }
   ],
   "source": [
    "# use the Birthday Paradox number to compare\n",
    "shared_floor_probability(23,365)\n",
    "shared_floor_probability(75,365)\n",
    "# nice "
   ]
  },
  {
   "cell_type": "code",
   "execution_count": 22,
   "id": "2dea4147",
   "metadata": {},
   "outputs": [
    {
     "name": "stderr",
     "output_type": "stream",
     "text": [
      "Widget Javascript not detected.  It may not be installed or enabled properly. Reconnecting the current kernel may help.\n"
     ]
    },
    {
     "data": {
      "application/vnd.jupyter.widget-view+json": {
       "model_id": "7385ae792fed464f8b355527ac8cd9d6"
      }
     },
     "metadata": {},
     "output_type": "display_data"
    }
   ],
   "source": [
    "# interactive plot \n",
    "import matplotlib.pyplot as plt\n",
    "from ipywidgets import interact, IntSlider\n",
    "\n",
    "def plot_probability(max_people, num_floors):\n",
    "    probabilities = []\n",
    "    people_range = range(1, max_people+1)\n",
    "\n",
    "    for n in people_range:\n",
    "        probabilities.append(shared_floor_probability(n, num_floors))\n",
    "\n",
    "    plt.figure(figsize=(8,5))\n",
    "    plt.plot(people_range, probabilities, marker='o')\n",
    "    plt.title(f\"Probability of Shared Floor ({num_floors} Floors)\")\n",
    "    plt.xlabel(\"Number of People in Elevator\")\n",
    "    plt.ylabel(\"Probability of Shared Floor\")\n",
    "    plt.ylim(-0.1,1.05)\n",
    "    plt.grid(True)\n",
    "    plt.show()\n",
    "\n",
    "# interactive slider for number of floors\n",
    "interact(plot_probability, \n",
    "         max_people=IntSlider(value=14, min=2, max=20, step=1), \n",
    "         num_floors=IntSlider(value=20, min=5, max=50, step=1));"
   ]
  },
  {
   "cell_type": "markdown",
   "id": "be994cfe",
   "metadata": {},
   "source": [
    "remark: might wanna try some simulations after this. "
   ]
  }
 ],
 "metadata": {
  "kernelspec": {
   "display_name": "Python 3 (ipykernel)",
   "language": "python",
   "name": "python3"
  },
  "language_info": {
   "codemirror_mode": {
    "name": "ipython",
    "version": 3
   },
   "file_extension": ".py",
   "mimetype": "text/x-python",
   "name": "python",
   "nbconvert_exporter": "python",
   "pygments_lexer": "ipython3",
   "version": "3.10.12"
  }
 },
 "nbformat": 4,
 "nbformat_minor": 5
}
